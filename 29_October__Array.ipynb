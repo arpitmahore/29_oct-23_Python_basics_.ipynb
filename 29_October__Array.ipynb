{
  "nbformat": 4,
  "nbformat_minor": 0,
  "metadata": {
    "colab": {
      "provenance": []
    },
    "kernelspec": {
      "name": "python3",
      "display_name": "Python 3"
    },
    "language_info": {
      "name": "python"
    }
  },
  "cells": [
    {
      "cell_type": "markdown",
      "source": [
        "1. Given an array, check if it contains any duplicates or not.\n",
        "arr = [1, 2, 4, 2, 5, 9]\n",
        "Output = True"
      ],
      "metadata": {
        "id": "46ggg7FJoF67"
      }
    },
    {
      "cell_type": "code",
      "execution_count": null,
      "metadata": {
        "colab": {
          "base_uri": "https://localhost:8080/"
        },
        "id": "khhvmECKoAwF",
        "outputId": "d8e997d2-c827-4141-8e59-253c4adf99b1"
      },
      "outputs": [
        {
          "output_type": "stream",
          "name": "stdout",
          "text": [
            "True\n"
          ]
        }
      ],
      "source": [
        "def checkduplicate(arr):\n",
        "\n",
        "  n= len(arr)\n",
        "  for i in range(n):\n",
        "    for j in range(n):\n",
        "      if j==i :\n",
        "        return True\n",
        "      else:\n",
        "        return False\n",
        "\n",
        "#Driver code\n",
        "arr= [1, 2, 4, 2, 5, 9]\n",
        "result = checkduplicate (arr)\n",
        "print(result)"
      ]
    },
    {
      "cell_type": "markdown",
      "source": [
        "2. Given an array and an integer k, rotate the array to the right by k steps.\n",
        "arr = [1, 2, 3, 4, 5, 6, 7] k = 3\n",
        "Output = [5, 6, 7, 1, 2, 3, 4]"
      ],
      "metadata": {
        "id": "xyGvvk9jpbN9"
      }
    },
    {
      "cell_type": "code",
      "source": [
        "def roted_array(arr,k):\n",
        "\n",
        "  n= len(arr)\n",
        "  rotedarray=[None]*n\n",
        "  for i in range(n):\n",
        "      newindex=(i+k)%n\n",
        "\n",
        "      rotedarray[newindex]=arr[i]\n",
        "\n",
        "  return rotedarray\n",
        "\n",
        "arr=[1, 2, 3, 4, 5, 6, 7]\n",
        "k=3\n",
        "result=roted_array(arr,k)\n",
        "print(result)\n"
      ],
      "metadata": {
        "colab": {
          "base_uri": "https://localhost:8080/"
        },
        "id": "2wch03xbpetF",
        "outputId": "2cedf221-8e95-40bd-d1a5-34aa76c7b1d9"
      },
      "execution_count": null,
      "outputs": [
        {
          "output_type": "stream",
          "name": "stdout",
          "text": [
            "[5, 6, 7, 1, 2, 3, 4]\n"
          ]
        }
      ]
    },
    {
      "cell_type": "markdown",
      "source": [
        "3. Reverse the given array in-place, means without using any extra data structure.\n",
        "arr = [2, 4, 5, 7, 9, 12]\n",
        "Output = [12, 9, 7, 5, 4, 2]"
      ],
      "metadata": {
        "id": "FcN4Jeg50j1f"
      }
    },
    {
      "cell_type": "code",
      "source": [
        "def reversearray(arr):\n",
        "\n",
        "  left = 0\n",
        "  right = len(arr) - 1\n",
        "\n",
        "  while left < right:\n",
        "   arr[ left], arr[right] = arr[right],arr[left]\n",
        "   left +=1\n",
        "\n",
        "\n",
        "  return arr\n",
        "\n",
        "arr=[2,4,5,7,9,12]\n",
        "result=reversearray(arr)\n",
        "print(result)"
      ],
      "metadata": {
        "id": "2BS17qkJ0dK0",
        "colab": {
          "base_uri": "https://localhost:8080/"
        },
        "outputId": "c5dbf920-56af-41eb-9fd5-5b1a17cbce63"
      },
      "execution_count": 5,
      "outputs": [
        {
          "output_type": "stream",
          "name": "stdout",
          "text": [
            "[12, 2, 4, 5, 7, 9]\n"
          ]
        }
      ]
    },
    {
      "cell_type": "markdown",
      "source": [
        "4. Given an array of integers, find the maximum element in an array\n",
        "arr = [10, 5, 20, 8, 15]\n",
        "Output = 20"
      ],
      "metadata": {
        "id": "NPhadIaCYFz0"
      }
    },
    {
      "cell_type": "code",
      "source": [
        "def maximum(arr):\n",
        "\n",
        "   max=arr[0]\n",
        "   n=len(arr)\n",
        "\n",
        "   for i in range(n):\n",
        "        if arr[i]>max:\n",
        "          max = arr[i]\n",
        "\n",
        "   return \"maximum element in array\",max\n",
        "\n",
        "arr=[10,5,20,8,15]\n",
        "result=maximum(arr)\n",
        "result"
      ],
      "metadata": {
        "colab": {
          "base_uri": "https://localhost:8080/"
        },
        "id": "XLpzrHQsYE5S",
        "outputId": "66a5a8d9-411f-4e0d-90dd-1772c970d20b"
      },
      "execution_count": 38,
      "outputs": [
        {
          "output_type": "execute_result",
          "data": {
            "text/plain": [
              "('maximum element in array', 20)"
            ]
          },
          "metadata": {},
          "execution_count": 38
        }
      ]
    },
    {
      "cell_type": "markdown",
      "source": [
        "5. Given a sorted array, remove the duplicate element without using any extra data structure.\n",
        "arr = [1, 1, 2, 2, 2, 3, 3, 4, 4, 4, 5, 5]\n",
        "Output = [1, 2, 3, 4, 5]"
      ],
      "metadata": {
        "id": "4LLiJ4R0ilrN"
      }
    },
    {
      "cell_type": "code",
      "source": [
        "def remove_duplicates(arr):\n",
        "  n = len(arr)\n",
        "  i = 0\n",
        "  j = 1\n",
        "  while j < n:\n",
        "    if arr[i] != arr[j]:\n",
        "      i += 1\n",
        "      arr[i] = arr[j]\n",
        "    j += 1\n",
        "  return arr[:i+1]\n",
        "\n",
        "arr = [1, 1, 2, 2, 2, 3, 3, 4, 4, 4, 5, 5]\n",
        "result = remove_duplicates(arr)\n",
        "print(result)\n"
      ],
      "metadata": {
        "colab": {
          "base_uri": "https://localhost:8080/"
        },
        "id": "k4ZH941hlZIH",
        "outputId": "1b92d3f0-8c5d-4c16-93e0-72645302a2d5"
      },
      "execution_count": 40,
      "outputs": [
        {
          "output_type": "stream",
          "name": "stdout",
          "text": [
            "[1, 2, 3, 4, 5]\n"
          ]
        }
      ]
    }
  ]
}